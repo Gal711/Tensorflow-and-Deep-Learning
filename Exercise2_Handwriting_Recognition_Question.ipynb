{
  "nbformat": 4,
  "nbformat_minor": 0,
  "metadata": {
    "colab": {
      "name": "Exercise2 - Handwriting Recognition - Question.ipynb",
      "version": "0.3.2",
      "provenance": [],
      "collapsed_sections": []
    },
    "kernelspec": {
      "name": "python3",
      "display_name": "Python 3"
    }
  },
  "cells": [
    {
      "cell_type": "markdown",
      "metadata": {
        "id": "tOoyQ70H00_s",
        "colab_type": "text"
      },
      "source": [
        "## Exercise 2\n",
        "In the course you learned how to do classification using Fashion MNIST, a data set containing items of clothing. There's another, similar dataset called MNIST which has items of handwriting -- the digits 0 through 9.\n",
        "\n",
        "Write an MNIST classifier that trains to 99% accuracy or above, and does it without a fixed number of epochs -- i.e. you should stop training once you reach that level of accuracy.\n",
        "\n",
        "Some notes:\n",
        "1. It should succeed in less than 10 epochs, so it is okay to change epochs to 10, but nothing larger\n",
        "2. When it reaches 99% or greater it should print out the string \"Reached 99% accuracy so cancelling training!\"\n",
        "3. If you add any additional variables, make sure you use the same names as the ones used in the class\n",
        "\n",
        "I've started the code for you below -- how would you finish it? "
      ]
    },
    {
      "cell_type": "code",
      "metadata": {
        "id": "9rvXQGAA0ssC",
        "colab_type": "code",
        "colab": {
          "base_uri": "https://localhost:8080/",
          "height": 328
        },
        "outputId": "33d0706e-e549-4bce-9f67-78df55e9f396"
      },
      "source": [
        "import tensorflow as tf\n",
        "# YOUR CODE SHOULD START HERE\n",
        "class myCallback(tf.keras.callbacks.Callback):\n",
        "  def on_epoch_end(self, epoch, logs={}):\n",
        "    if(logs.get('acc')>=0.99):\n",
        "      print(\"\\nReached 99% accuracy so cancelling training!\")\n",
        "      self.model.stop_training = True\n",
        "# YOUR CODE SHOULD END HERE\n",
        "mnist = tf.keras.datasets.mnist\n",
        "\n",
        "(x_train, y_train),(x_test, y_test) = mnist.load_data()\n",
        "# YOUR CODE SHOULD START HERE\n",
        "x_train, x_test = x_train / 255.0, x_test / 255.0\n",
        "\n",
        "callbacks = myCallback()\n",
        "\n",
        "# YOUR CODE SHOULD END HERE\n",
        "model = tf.keras.models.Sequential([\n",
        "# YOUR CODE SHOULD START HERE\n",
        "  tf.keras.layers.Flatten(input_shape=(28, 28)),\n",
        "  tf.keras.layers.Dense(512, activation=tf.nn.relu),\n",
        "  tf.keras.layers.Dense(10, activation=tf.nn.softmax)\n",
        "# YOUR CODE SHOULD END HERE\n",
        "])\n",
        "\n",
        "model.compile(optimizer='adam',\n",
        "              loss='sparse_categorical_crossentropy',\n",
        "              metrics=['accuracy'])\n",
        "\n",
        "# YOUR CODE SHOULD START HERE\n",
        "model.fit(x_train, y_train, epochs=10, callbacks=[callbacks])\n",
        "# YOUR CODE SHOULD END HERE"
      ],
      "execution_count": 3,
      "outputs": [
        {
          "output_type": "stream",
          "text": [
            "WARNING:tensorflow:From /usr/local/lib/python3.6/dist-packages/tensorflow/python/ops/resource_variable_ops.py:435: colocate_with (from tensorflow.python.framework.ops) is deprecated and will be removed in a future version.\n",
            "Instructions for updating:\n",
            "Colocations handled automatically by placer.\n",
            "Epoch 1/10\n",
            "60000/60000 [==============================] - 14s 227us/sample - loss: 0.2026 - acc: 0.9403\n",
            "Epoch 2/10\n",
            "60000/60000 [==============================] - 13s 220us/sample - loss: 0.0793 - acc: 0.9758\n",
            "Epoch 3/10\n",
            "60000/60000 [==============================] - 13s 216us/sample - loss: 0.0521 - acc: 0.9835\n",
            "Epoch 4/10\n",
            "60000/60000 [==============================] - 13s 219us/sample - loss: 0.0378 - acc: 0.9879\n",
            "Epoch 5/10\n",
            "59808/60000 [============================>.] - ETA: 0s - loss: 0.0264 - acc: 0.9916\n",
            "Reached 99% accuracy so cancelling training!\n",
            "60000/60000 [==============================] - 13s 215us/sample - loss: 0.0264 - acc: 0.9916\n"
          ],
          "name": "stdout"
        },
        {
          "output_type": "execute_result",
          "data": {
            "text/plain": [
              "<tensorflow.python.keras.callbacks.History at 0x7f94c5487978>"
            ]
          },
          "metadata": {
            "tags": []
          },
          "execution_count": 3
        }
      ]
    },
    {
      "cell_type": "code",
      "metadata": {
        "id": "4GH3yA1w22ra",
        "colab_type": "code",
        "colab": {
          "base_uri": "https://localhost:8080/",
          "height": 90
        },
        "outputId": "da35eefe-5a2d-4c8d-e3cd-8d4721cc41ba"
      },
      "source": [
        "classifications = model.predict(x_test)\n",
        "\n",
        "print(classifications[2])\n",
        "print(y_test[0])"
      ],
      "execution_count": 8,
      "outputs": [
        {
          "output_type": "stream",
          "text": [
            "[2.02259565e-09 9.99945164e-01 1.30747376e-05 1.03103005e-07\n",
            " 1.87419437e-06 7.99481228e-08 5.00740747e-08 3.41012928e-05\n",
            " 5.50442564e-06 6.84149182e-09]\n",
            "7\n"
          ],
          "name": "stdout"
        }
      ]
    },
    {
      "cell_type": "code",
      "metadata": {
        "id": "lTBjOd2R2QoO",
        "colab_type": "code",
        "colab": {
          "base_uri": "https://localhost:8080/",
          "height": 287
        },
        "outputId": "83135bcc-95d4-400d-db88-b0ba4e45e907"
      },
      "source": [
        "import matplotlib.pyplot as plt\n",
        "plt.imshow(x_test[1])"
      ],
      "execution_count": 7,
      "outputs": [
        {
          "output_type": "execute_result",
          "data": {
            "text/plain": [
              "<matplotlib.image.AxesImage at 0x7f94be15beb8>"
            ]
          },
          "metadata": {
            "tags": []
          },
          "execution_count": 7
        },
        {
          "output_type": "display_data",
          "data": {
            "image/png": "[encoded data removed]",
            "text/plain": [
              "<Figure size 432x288 with 1 Axes>"
            ]
          },
          "metadata": {
            "tags": []
          }
        }
      ]
    },
    {
      "cell_type": "code",
      "metadata": {
        "id": "deSetoAK3SaH",
        "colab_type": "code",
        "colab": {}
      },
      "source": [
        ""
      ],
      "execution_count": 0,
      "outputs": []
    }
  ]
}